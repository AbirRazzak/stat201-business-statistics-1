{
 "cells": [
  {
   "cell_type": "code",
   "execution_count": 1,
   "metadata": {
    "scrolled": true
   },
   "outputs": [],
   "source": [
    "import pandas as pd\n",
    "import matplotlib.pyplot as plt\n",
    "from matplotlib.pyplot import figure\n",
    "\n",
    "plt.style.use('fivethirtyeight')"
   ]
  },
  {
   "cell_type": "markdown",
   "metadata": {},
   "source": [
    "# Introduction\n",
    "\n",
    "Today I will be exploring instant ramen of various countries and how ramen enthuistasts rate these ramen by country. The data I will be using in this notebook comes from Kaggle: [Ramen Ratings](https://www.kaggle.com/residentmario/ramen-ratings).\n",
    "\n",
    "\n",
    "Let's begin by reading the data in and taking a look at the first few rows."
   ]
  },
  {
   "cell_type": "code",
   "execution_count": 2,
   "metadata": {},
   "outputs": [
    {
     "data": {
      "text/html": [
       "<div>\n",
       "<style scoped>\n",
       "    .dataframe tbody tr th:only-of-type {\n",
       "        vertical-align: middle;\n",
       "    }\n",
       "\n",
       "    .dataframe tbody tr th {\n",
       "        vertical-align: top;\n",
       "    }\n",
       "\n",
       "    .dataframe thead th {\n",
       "        text-align: right;\n",
       "    }\n",
       "</style>\n",
       "<table border=\"1\" class=\"dataframe\">\n",
       "  <thead>\n",
       "    <tr style=\"text-align: right;\">\n",
       "      <th></th>\n",
       "      <th>Review #</th>\n",
       "      <th>Brand</th>\n",
       "      <th>Variety</th>\n",
       "      <th>Style</th>\n",
       "      <th>Country</th>\n",
       "      <th>Stars</th>\n",
       "      <th>Top Ten</th>\n",
       "    </tr>\n",
       "  </thead>\n",
       "  <tbody>\n",
       "    <tr>\n",
       "      <td>0</td>\n",
       "      <td>2580</td>\n",
       "      <td>New Touch</td>\n",
       "      <td>T's Restaurant Tantanmen</td>\n",
       "      <td>Cup</td>\n",
       "      <td>Japan</td>\n",
       "      <td>3.75</td>\n",
       "      <td>NaN</td>\n",
       "    </tr>\n",
       "    <tr>\n",
       "      <td>1</td>\n",
       "      <td>2579</td>\n",
       "      <td>Just Way</td>\n",
       "      <td>Noodles Spicy Hot Sesame Spicy Hot Sesame Guan...</td>\n",
       "      <td>Pack</td>\n",
       "      <td>Taiwan</td>\n",
       "      <td>1</td>\n",
       "      <td>NaN</td>\n",
       "    </tr>\n",
       "    <tr>\n",
       "      <td>2</td>\n",
       "      <td>2578</td>\n",
       "      <td>Nissin</td>\n",
       "      <td>Cup Noodles Chicken Vegetable</td>\n",
       "      <td>Cup</td>\n",
       "      <td>USA</td>\n",
       "      <td>2.25</td>\n",
       "      <td>NaN</td>\n",
       "    </tr>\n",
       "    <tr>\n",
       "      <td>3</td>\n",
       "      <td>2577</td>\n",
       "      <td>Wei Lih</td>\n",
       "      <td>GGE Ramen Snack Tomato Flavor</td>\n",
       "      <td>Pack</td>\n",
       "      <td>Taiwan</td>\n",
       "      <td>2.75</td>\n",
       "      <td>NaN</td>\n",
       "    </tr>\n",
       "    <tr>\n",
       "      <td>4</td>\n",
       "      <td>2576</td>\n",
       "      <td>Ching's Secret</td>\n",
       "      <td>Singapore Curry</td>\n",
       "      <td>Pack</td>\n",
       "      <td>India</td>\n",
       "      <td>3.75</td>\n",
       "      <td>NaN</td>\n",
       "    </tr>\n",
       "  </tbody>\n",
       "</table>\n",
       "</div>"
      ],
      "text/plain": [
       "   Review #           Brand  \\\n",
       "0      2580       New Touch   \n",
       "1      2579        Just Way   \n",
       "2      2578          Nissin   \n",
       "3      2577         Wei Lih   \n",
       "4      2576  Ching's Secret   \n",
       "\n",
       "                                             Variety Style Country Stars  \\\n",
       "0                          T's Restaurant Tantanmen    Cup   Japan  3.75   \n",
       "1  Noodles Spicy Hot Sesame Spicy Hot Sesame Guan...  Pack  Taiwan     1   \n",
       "2                      Cup Noodles Chicken Vegetable   Cup     USA  2.25   \n",
       "3                      GGE Ramen Snack Tomato Flavor  Pack  Taiwan  2.75   \n",
       "4                                    Singapore Curry  Pack   India  3.75   \n",
       "\n",
       "  Top Ten  \n",
       "0     NaN  \n",
       "1     NaN  \n",
       "2     NaN  \n",
       "3     NaN  \n",
       "4     NaN  "
      ]
     },
     "execution_count": 2,
     "metadata": {},
     "output_type": "execute_result"
    }
   ],
   "source": [
    "df = pd.read_csv('razzak_abir_stat201FinalProject.csv')\n",
    "df.head()"
   ]
  },
  {
   "cell_type": "markdown",
   "metadata": {},
   "source": [
    "# Data Cleanup\n",
    "\n",
    "Let's clean up the data a bit. First I'll start with converting any non-numeric values in the 'Stars' row to NaN (stands for \"Not a Number\"), to make calculations possible."
   ]
  },
  {
   "cell_type": "code",
   "execution_count": 3,
   "metadata": {},
   "outputs": [],
   "source": [
    "df.Stars = pd.to_numeric(df.Stars, errors='coerce')"
   ]
  },
  {
   "cell_type": "markdown",
   "metadata": {},
   "source": [
    "# Variables\n",
    "\n",
    "Now that the data is cleaned up, I can now present the descriptive statistics for the Stars column in the dataset.\n",
    "\n",
    "## Review #\n",
    "\n",
    "'Review #' is the counter variable most likely used to log all the reviews in chronological order. For the sake of this notebook, this variable is useless as we have row numbers built into Python.\n",
    "\n",
    "## Brand\n",
    "\n",
    "Brand represents the company that makes the ramen that is being reviewed. In the dataset, there are 355 unique brands, with the highest rated brand being Nissin, with 381 ratings.\n",
    "\n",
    "## Variety\n",
    "\n",
    "Variety refers to the flavor of the specific ramen. The variety of a specific ramen is directly linked to the brand, so the two variables do not vary independently. There are 2413 unique varieties in the dataset, with \"Beef\" and \"Chicken\" being the highest rated ramen varieties.\n",
    "\n",
    "## Stars\n",
    "\n",
    "In the ramen reviews, the reviewers must rate the ramen on a scale from 0 (worst) to 5 (best). Here we can see that the overall average rating is a mean of 3.655 (rounded to 3 decimal points) and a median of 3.75. Calculated mode for the ratings is 4.0.\n",
    "\n"
   ]
  },
  {
   "cell_type": "code",
   "execution_count": 4,
   "metadata": {
    "scrolled": true
   },
   "outputs": [
    {
     "name": "stdout",
     "output_type": "stream",
     "text": [
      "Number of unique Brands:\t355\n",
      "Brand breakdown:\n",
      "Nissin           381\n",
      "Nongshim          98\n",
      "Maruchan          76\n",
      "Mama              71\n",
      "Paldo             66\n",
      "                ... \n",
      "Ishimaru           1\n",
      "Hua Feng           1\n",
      "Sutah              1\n",
      "Plats Du Chef      1\n",
      "Sunny Maid         1\n",
      "Name: Brand, Length: 355, dtype: int64\n"
     ]
    }
   ],
   "source": [
    "# Brands\n",
    "print('Number of unique Brands:\\t{}'.format(df['Brand'].nunique()))\n",
    "print('Brand breakdown:\\n{}'.format(df['Brand'].value_counts()))"
   ]
  },
  {
   "cell_type": "code",
   "execution_count": 5,
   "metadata": {
    "scrolled": true
   },
   "outputs": [
    {
     "name": "stdout",
     "output_type": "stream",
     "text": [
      "Number of unique Varieties:\t2413\n",
      "Variety breakdown:\n",
      "Chicken                                       7\n",
      "Beef                                          7\n",
      "Artificial Chicken                            6\n",
      "Vegetable                                     6\n",
      "Yakisoba                                      6\n",
      "                                             ..\n",
      "Spicy Beef Flavor Instant Noodle              1\n",
      "Spice Seafood                                 1\n",
      "King Bowl Super Spicy Pan Stirfried Noodle    1\n",
      "Lemon Chicken Flavour Instant Noodles         1\n",
      "Jin Ramen (Hot Taste)                         1\n",
      "Name: Variety, Length: 2413, dtype: int64\n"
     ]
    }
   ],
   "source": [
    "# Variety\n",
    "print('Number of unique Varieties:\\t{}'.format(df['Variety'].nunique()))\n",
    "print('Variety breakdown:\\n{}'.format(df['Variety'].value_counts()))"
   ]
  },
  {
   "cell_type": "code",
   "execution_count": 6,
   "metadata": {
    "scrolled": true
   },
   "outputs": [
    {
     "name": "stdout",
     "output_type": "stream",
     "text": [
      "\t\tStars\n",
      "Min:\t\t0.0\n",
      "Q1:\t\t3.25\n",
      "Median:\t\t3.75\n",
      "Mean:\t\t3.655\n",
      "Q3:\t\t4.25\n",
      "Max:\t\t5.0\n",
      "Mode:\t\t4.0\n"
     ]
    }
   ],
   "source": [
    "# Stars\n",
    "print('\\t\\tStars')\n",
    "print('Min:\\t\\t{}'.format(df['Stars'].min()))\n",
    "print('Q1:\\t\\t{}'.format(df['Stars'].quantile(0.25)))\n",
    "print('Median:\\t\\t{}'.format(df['Stars'].median()))\n",
    "print('Mean:\\t\\t{}'.format(df['Stars'].mean().round(3)))\n",
    "print('Q3:\\t\\t{}'.format(df['Stars'].quantile(0.75)))\n",
    "print('Max:\\t\\t{}'.format(df['Stars'].max()))\n",
    "print('Mode:\\t\\t{}'.format(df['Stars'].mode().values[0]))"
   ]
  },
  {
   "cell_type": "markdown",
   "metadata": {},
   "source": [
    "# Visualization #"
   ]
  },
  {
   "cell_type": "code",
   "execution_count": 9,
   "metadata": {
    "scrolled": false
   },
   "outputs": [
    {
     "data": {
      "image/png": "[encoded data removed]",
      "text/plain": [
       "<Figure size 1080x720 with 1 Axes>"
      ]
     },
     "metadata": {
      "needs_background": "light"
     },
     "output_type": "display_data"
    }
   ],
   "source": [
    "# Calculate the means for the 6 most rated country's instant ramens\n",
    "countries = ['Japan', 'USA', 'South Korea', 'Taiwan', 'Thailand', 'China']\n",
    "means = []\n",
    "\n",
    "japan_mean = df.loc[df['Country'] == 'Japan']['Stars'].mean().round(3)\n",
    "means.append(japan_mean)\n",
    "\n",
    "usa_mean = df.loc[df['Country'] == 'USA']['Stars'].mean().round(3)\n",
    "means.append(usa_mean)\n",
    "\n",
    "korea_mean = df.loc[df['Country'] == 'South Korea']['Stars'].mean().round(3)\n",
    "means.append(korea_mean)\n",
    "\n",
    "taiwan_mean = df.loc[df['Country'] == 'Taiwan']['Stars'].mean().round(3)\n",
    "means.append(taiwan_mean)\n",
    "\n",
    "thailand_mean = df.loc[df['Country'] == 'Thailand']['Stars'].mean().round(3)\n",
    "means.append(thailand_mean)\n",
    "\n",
    "china_mean = df.loc[df['Country'] == 'China']['Stars'].mean().round(3)\n",
    "means.append(china_mean)\n",
    "\n",
    "# Plot a graph\n",
    "\n",
    "x_pos = [i for i, _ in enumerate(countries)]\n",
    "f, ax = plt.subplots(figsize=(15,10))\n",
    "plt.bar(x_pos, means, color='green')\n",
    "plt.xlabel(\"Country\")\n",
    "plt.ylabel(\"Average Rating (out of 5 Stars)\")\n",
    "plt.title(\"Average Rating of a Country's Instant Ramen\")\n",
    "\n",
    "plt.xticks(x_pos, countries)\n",
    "plt.show()"
   ]
  },
  {
   "cell_type": "markdown",
   "metadata": {},
   "source": [
    "# Analysis #"
   ]
  }
 ],
 "metadata": {
  "kernelspec": {
   "display_name": "Python 3",
   "language": "python",
   "name": "python3"
  },
  "language_info": {
   "codemirror_mode": {
    "name": "ipython",
    "version": 3
   },
   "file_extension": ".py",
   "mimetype": "text/x-python",
   "name": "python",
   "nbconvert_exporter": "python",
   "pygments_lexer": "ipython3",
   "version": "3.7.4"
  }
 },
 "nbformat": 4,
 "nbformat_minor": 2
}
